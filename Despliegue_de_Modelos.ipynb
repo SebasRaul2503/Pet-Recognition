{
  "nbformat": 4,
  "nbformat_minor": 0,
  "metadata": {
    "colab": {
      "provenance": [],
      "gpuType": "T4",
      "mount_file_id": "13BSPPWGeLSlp5N2WZ18RxByDbA_aoqmh",
      "authorship_tag": "ABX9TyOWxdIx9lfdlxZVaOWAsfFd",
      "include_colab_link": true
    },
    "kernelspec": {
      "name": "python3",
      "display_name": "Python 3"
    },
    "language_info": {
      "name": "python"
    },
    "accelerator": "GPU"
  },
  "cells": [
    {
      "cell_type": "markdown",
      "metadata": {
        "id": "view-in-github",
        "colab_type": "text"
      },
      "source": [
        "<a href=\"https://colab.research.google.com/github/SebasRaul2503/Pet-Recognition/blob/main/Despliegue_de_Modelos.ipynb\" target=\"_parent\"><img src=\"https://colab.research.google.com/assets/colab-badge.svg\" alt=\"Open In Colab\"/></a>"
      ]
    },
    {
      "cell_type": "code",
      "source": [
        "#@title Clonamos repo de los modelos\n",
        "!git clone https://github.com/SebasRaul2503/Pet-Recognition.git"
      ],
      "metadata": {
        "colab": {
          "base_uri": "https://localhost:8080/"
        },
        "cellView": "form",
        "id": "U_NbtnQ17Eif",
        "outputId": "4584eae5-65aa-4753-80f5-6ee1b07b20a6"
      },
      "execution_count": null,
      "outputs": [
        {
          "output_type": "stream",
          "name": "stdout",
          "text": [
            "Cloning into 'Pet-Recognition'...\n",
            "remote: Enumerating objects: 31, done.\u001b[K\n",
            "remote: Counting objects: 100% (31/31), done.\u001b[K\n",
            "remote: Compressing objects: 100% (25/25), done.\u001b[K\n",
            "remote: Total 31 (delta 3), reused 17 (delta 2), pack-reused 0\u001b[K\n",
            "Receiving objects: 100% (31/31), 7.85 KiB | 7.85 MiB/s, done.\n",
            "Resolving deltas: 100% (3/3), done.\n",
            "Filtering content: 100% (6/6), 442.49 MiB | 45.91 MiB/s, done.\n"
          ]
        }
      ]
    },
    {
      "cell_type": "code",
      "source": [
        "#@title Instalamos dependencias necesarias\n",
        "!pip install flask-ngrok"
      ],
      "metadata": {
        "colab": {
          "base_uri": "https://localhost:8080/"
        },
        "id": "SP1TwnVV9KPs",
        "outputId": "f06542e5-8c2d-49df-e5fe-29a34124ceea",
        "cellView": "form"
      },
      "execution_count": null,
      "outputs": [
        {
          "output_type": "stream",
          "name": "stdout",
          "text": [
            "Collecting flask-ngrok\n",
            "  Downloading flask_ngrok-0.0.25-py3-none-any.whl (3.1 kB)\n",
            "Requirement already satisfied: Flask>=0.8 in /usr/local/lib/python3.10/dist-packages (from flask-ngrok) (2.2.5)\n",
            "Requirement already satisfied: requests in /usr/local/lib/python3.10/dist-packages (from flask-ngrok) (2.31.0)\n",
            "Requirement already satisfied: Werkzeug>=2.2.2 in /usr/local/lib/python3.10/dist-packages (from Flask>=0.8->flask-ngrok) (3.0.1)\n",
            "Requirement already satisfied: Jinja2>=3.0 in /usr/local/lib/python3.10/dist-packages (from Flask>=0.8->flask-ngrok) (3.1.3)\n",
            "Requirement already satisfied: itsdangerous>=2.0 in /usr/local/lib/python3.10/dist-packages (from Flask>=0.8->flask-ngrok) (2.1.2)\n",
            "Requirement already satisfied: click>=8.0 in /usr/local/lib/python3.10/dist-packages (from Flask>=0.8->flask-ngrok) (8.1.7)\n",
            "Requirement already satisfied: charset-normalizer<4,>=2 in /usr/local/lib/python3.10/dist-packages (from requests->flask-ngrok) (3.3.2)\n",
            "Requirement already satisfied: idna<4,>=2.5 in /usr/local/lib/python3.10/dist-packages (from requests->flask-ngrok) (3.6)\n",
            "Requirement already satisfied: urllib3<3,>=1.21.1 in /usr/local/lib/python3.10/dist-packages (from requests->flask-ngrok) (2.0.7)\n",
            "Requirement already satisfied: certifi>=2017.4.17 in /usr/local/lib/python3.10/dist-packages (from requests->flask-ngrok) (2024.2.2)\n",
            "Requirement already satisfied: MarkupSafe>=2.0 in /usr/local/lib/python3.10/dist-packages (from Jinja2>=3.0->Flask>=0.8->flask-ngrok) (2.1.5)\n",
            "Installing collected packages: flask-ngrok\n",
            "Successfully installed flask-ngrok-0.0.25\n"
          ]
        }
      ]
    },
    {
      "cell_type": "code",
      "source": [
        "#@title Importacion de las bibliotecas necesarias\n",
        "from flask_ngrok import run_with_ngrok\n",
        "from flask import Flask, request, render_template\n",
        "import numpy as np\n",
        "from PIL import Image\n",
        "import io\n",
        "import os\n",
        "import tensorflow as tf\n",
        "from keras.preprocessing import image\n",
        "from keras.preprocessing.image import img_to_array\n",
        "from werkzeug.utils import secure_filename"
      ],
      "metadata": {
        "id": "tpDgzWFo9Fne",
        "cellView": "form"
      },
      "execution_count": null,
      "outputs": []
    },
    {
      "cell_type": "code",
      "source": [
        "#@title Carga de los 6 modelos\n",
        "model_1 = tf.keras.models.load_model('/content/Pet-Recognition/Models/InceptionV3_09210.keras')\n",
        "model_2 = tf.keras.models.load_model('/content/Pet-Recognition/Models/InceptionV3_09362_noLSTM.keras')\n",
        "model_3 = tf.keras.models.load_model('/content/Pet-Recognition/Models/VGG16_08852.keras')\n",
        "model_4 = tf.keras.models.load_model('/content/Pet-Recognition/Models/VGG16_08898_noLSTM.keras')\n",
        "model_5 = tf.keras.models.load_model('/content/Pet-Recognition/Models/noPre_06120.keras')\n",
        "model_6 = tf.keras.models.load_model('/content/Pet-Recognition/Models/noPre_08942_noLSTM.keras')\n",
        "\n",
        "# Define una lista con los nombres de los modelos correspondientes\n",
        "model_names = [\n",
        "    'InceptionV3_09210',\n",
        "    'InceptionV3_09362_noLSTM',\n",
        "    'VGG16_08852',\n",
        "    'VGG16_08898_noLSTM',\n",
        "    'noPre_06120',\n",
        "    'noPre_08942_noLSTM'\n",
        "]"
      ],
      "metadata": {
        "id": "meHIstYo_PRP",
        "cellView": "form"
      },
      "execution_count": null,
      "outputs": []
    },
    {
      "cell_type": "code",
      "source": [
        "#@title Vemos la URL que usaremos para la interfaz (Siempre que se reinicie la sesion del Colab, tenemos que correr esta celda, porque cambia)\n",
        "from google.colab.output import eval_js\n",
        "url = eval_js(\"google.colab.kernel.proxyPort(5000)\")\n",
        "print(url)"
      ],
      "metadata": {
        "colab": {
          "base_uri": "https://localhost:8080/",
          "height": 35
        },
        "id": "zT1AyT7LGryX",
        "outputId": "fae77fb7-0941-434a-f6cf-78fecb48a54f"
      },
      "execution_count": null,
      "outputs": [
        {
          "output_type": "stream",
          "name": "stdout",
          "text": [
            "https://ww3fvewtsan-496ff2e9c6d22116-5000-colab.googleusercontent.com/\n"
          ]
        }
      ]
    },
    {
      "cell_type": "code",
      "source": [
        "#@title Usamos Flask para desplegar los modelos en la web\n",
        "def predict_image(image_path, model):\n",
        "    img = image.load_img(image_path, target_size=(128, 128))  # Ajusta el tamaño segun el modelo\n",
        "    img_array = img_to_array(img)\n",
        "    img_array = img_array.reshape((1,) + img_array.shape)  # Añade una dimension para el lote\n",
        "    img_array /= 255.0  # Normaliza los valores de pixeles al rango [0, 1]\n",
        "    prediction = model.predict(img_array)\n",
        "    return \"Perro\" if prediction[0][0] > 0.5 else \"Gato\"\n",
        "\n",
        "# Configuración de la aplicación Flask\n",
        "app = Flask(__name__, template_folder='/content/Pet-Recognition/templates')  # Corrige la ruta del directorio de templates\n",
        "run_with_ngrok(app)  # Iniciar ngrok cuando la aplicación se ejecute\n",
        "\n",
        "# Directorio para almacenar los archivos temporales\n",
        "UPLOAD_FOLDER = '/content/uploads/'\n",
        "if not os.path.exists(UPLOAD_FOLDER):\n",
        "    os.makedirs(UPLOAD_FOLDER)\n",
        "app.config['UPLOAD_FOLDER'] = UPLOAD_FOLDER\n",
        "\n",
        "# Ruta principal de la aplicación\n",
        "@app.route('/', methods=['GET', 'POST'])\n",
        "def upload_file():\n",
        "    if request.method == 'POST':\n",
        "        file = request.files['file']\n",
        "        if file:\n",
        "            filename = secure_filename(file.filename)\n",
        "            file_path = os.path.join(app.config['UPLOAD_FOLDER'], filename)\n",
        "            file.save(file_path)  # Guardar el archivo en el directorio de uploads\n",
        "\n",
        "            predictions = {}  # Diccionario para almacenar las predicciones\n",
        "            for i in range(1, 7):\n",
        "              model_name = model_names[i-1]\n",
        "              prediction = predict_image(file_path, globals()[f'model_{i}'])  # Obtiene el modelo correspondiente por su nombre\n",
        "              predictions[model_name] = prediction\n",
        "\n",
        "            os.remove(file_path)  # Eliminar el archivo temporal después de las predicciones\n",
        "            return predictions\n",
        "    return render_template('index.html', prediction=None)\n",
        "\n",
        "# Ejecutar la aplicación\n",
        "if __name__ == '__main__':\n",
        "    app.run()"
      ],
      "metadata": {
        "cellView": "form",
        "id": "XqhNuGDnBZen"
      },
      "execution_count": null,
      "outputs": []
    }
  ]
}